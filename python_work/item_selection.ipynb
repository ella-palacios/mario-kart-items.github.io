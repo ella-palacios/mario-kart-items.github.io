{
 "cells": [
  {
   "cell_type": "markdown",
   "metadata": {},
   "source": [
    "The following notebook contains the data and randomization python files for my True Random Item Picker for Mario Kart 8. "
   ]
  },
  {
   "cell_type": "code",
   "execution_count": 1,
   "metadata": {},
   "outputs": [],
   "source": [
    "import numpy as np"
   ]
  },
  {
   "cell_type": "code",
   "execution_count": 2,
   "metadata": {},
   "outputs": [],
   "source": [
    "#defining item lists\n",
    "normal_items = ['banana', 'triple bananas', 'green shell', ' triple green shells', 'red shell', 'triple red shells', 'blue shell', 'bob-omb', 'mushroom', \n",
    "                'triple mushrooms', 'golden mushroom', 'bullet', 'squid', 'lightning', 'star', 'fire flower', 'boomerang flower', 'pirahna plant', \n",
    "                'sonic speaker', 'super eight', 'coin', 'king boo']\n",
    "battle_items = ['banana', 'triple bananas', 'green shell', ' triple green shells', 'red shell', 'triple red shells', 'blue shell', 'bob-omb', 'mushroom', \n",
    "                'triple mushrooms', 'golden mushroom', 'bullet', 'squid', 'lightning', 'star', 'fire flower', 'boomerang flower', 'pirahna plant', \n",
    "                'sonic speaker', 'super eight', 'coin', 'king boo', 'feather']\n"
   ]
  },
  {
   "cell_type": "code",
   "execution_count": 32,
   "metadata": {},
   "outputs": [
    {
     "name": "stdout",
     "output_type": "stream",
     "text": [
      "13\n",
      "22\n",
      "23\n"
     ]
    }
   ],
   "source": [
    "#random integer generator\n",
    "rng = np.random.default_rng()\n",
    "rints = rng.integers(low = 0, high = 21)\n",
    "print(rints)\n",
    "\n",
    "print(len(normal_items))\n",
    "print(len(battle_items))\n"
   ]
  },
  {
   "cell_type": "code",
   "execution_count": 49,
   "metadata": {},
   "outputs": [
    {
     "name": "stdout",
     "output_type": "stream",
     "text": [
      "2\n",
      "20\n"
     ]
    }
   ],
   "source": [
    "#determines how many items in each play type to use, given a random number. This can be defined to different play styles in a later update.\n",
    "norm_item_size = len(normal_items) \n",
    "battle_item_size = len(battle_items) \n",
    "\n",
    "num_norm_items = rng.integers(low = 0, high = len(normal_items)+1) \n",
    "print(num_norm_items)\n",
    "\n",
    "num_battle_items = rng.integers(low =0, high = len(battle_items)+1)\n",
    "print(num_battle_items)"
   ]
  },
  {
   "cell_type": "code",
   "execution_count": 53,
   "metadata": {},
   "outputs": [
    {
     "name": "stdout",
     "output_type": "stream",
     "text": [
      "['bullet' 'bob-omb']\n"
     ]
    }
   ],
   "source": [
    "#from the previous we want to take that number of items and pick randomly that number from the item lists via indicies. \n",
    "\n",
    "random_items = np.random.choice(normal_items, size = num_norm_items)\n",
    "print(random_items)\n"
   ]
  },
  {
   "cell_type": "code",
   "execution_count": null,
   "metadata": {},
   "outputs": [],
   "source": [
    "#practice implementation\n",
    "norm_item_size = len(normal_items) \n",
    "battle_item_size = len(battle_items) \n",
    "\n",
    "num_norm_items = rng.integers(low = 0, high = len(normal_items)+1) \n",
    "print('Number of items used:', num_norm_items)\n",
    "\n",
    "num_battle_items = rng.integers(low =0, high = len(battle_items)+1)\n",
    "#print(num_battle_items)\n",
    "\n",
    "random_items_normal = np.random.choice(normal_items, size = num_norm_items)\n",
    "print('Items:',random_items_normal)"
   ]
  },
  {
   "cell_type": "code",
   "execution_count": 62,
   "metadata": {},
   "outputs": [
    {
     "data": {
      "text/plain": [
       "array(['green shell', 'triple bananas', 'bullet', 'triple red shells',\n",
       "       'king boo', 'mushroom', 'lightning', 'sonic speaker',\n",
       "       'super eight', 'boomerang flower', ' triple green shells',\n",
       "       'fire flower', 'squid', 'star', 'coin', 'red shell'], dtype='<U20')"
      ]
     },
     "execution_count": 62,
     "metadata": {},
     "output_type": "execute_result"
    }
   ],
   "source": [
    "#actual implementation\n",
    "def norm_random_items():\n",
    "    '''returns truly random items for normal play in Mario Kart 8 on Nintendeno Switch'''\n",
    "    rng = np.random.default_rng()\n",
    "    norm_item_size = len(normal_items)\n",
    "    num_norm_items = rng.integers(low = 0, high = norm_item_size + 1)\n",
    "    items_used = np.random.choice(normal_items, size = num_norm_items, replace = False)\n",
    "    return items_used\n",
    "\n",
    "norm_random_items()"
   ]
  },
  {
   "cell_type": "code",
   "execution_count": 64,
   "metadata": {},
   "outputs": [
    {
     "data": {
      "text/plain": [
       "array(['pirahna plant', 'triple mushrooms', 'lightning', 'sonic speaker',\n",
       "       'squid'], dtype='<U20')"
      ]
     },
     "execution_count": 64,
     "metadata": {},
     "output_type": "execute_result"
    }
   ],
   "source": [
    "#battle implementation\n",
    "def battle_random_items():\n",
    "    '''returns truly random items for battle play in Mario Kart 8 on Nintendo Switch'''\n",
    "    rng = np.random.default_rng()\n",
    "    battle_item_size = len(battle_items)\n",
    "    num_battle_items = rng.integers(low = 0, high = battle_item_size+1)\n",
    "    battle_items_used = np.random.choice(battle_items, size = num_battle_items, replace = False)\n",
    "    return battle_items_used\n",
    "\n",
    "battle_random_items()"
   ]
  },
  {
   "cell_type": "code",
   "execution_count": null,
   "metadata": {},
   "outputs": [],
   "source": []
  }
 ],
 "metadata": {
  "kernelspec": {
   "display_name": "Python 3",
   "language": "python",
   "name": "python3"
  },
  "language_info": {
   "codemirror_mode": {
    "name": "ipython",
    "version": 3
   },
   "file_extension": ".py",
   "mimetype": "text/x-python",
   "name": "python",
   "nbconvert_exporter": "python",
   "pygments_lexer": "ipython3",
   "version": "3.11.9"
  }
 },
 "nbformat": 4,
 "nbformat_minor": 2
}
